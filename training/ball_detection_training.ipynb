{
 "cells": [
  {
   "cell_type": "markdown",
   "metadata": {},
   "source": [
    "# Imports"
   ]
  },
  {
   "cell_type": "code",
   "execution_count": 5,
   "metadata": {},
   "outputs": [
    {
     "name": "stdout",
     "output_type": "stream",
     "text": [
      "Collecting roboflow\n",
      "  Downloading roboflow-1.1.36-py3-none-any.whl.metadata (9.4 kB)\n",
      "Requirement already satisfied: certifi in c:\\users\\yuyao\\onedrive\\documents\\epq\\epq_tennis\\.venv\\lib\\site-packages (from roboflow) (2024.7.4)\n",
      "Collecting chardet==4.0.0 (from roboflow)\n",
      "  Downloading chardet-4.0.0-py2.py3-none-any.whl.metadata (3.5 kB)\n",
      "Requirement already satisfied: idna==3.7 in c:\\users\\yuyao\\onedrive\\documents\\epq\\epq_tennis\\.venv\\lib\\site-packages (from roboflow) (3.7)\n",
      "Requirement already satisfied: cycler in c:\\users\\yuyao\\onedrive\\documents\\epq\\epq_tennis\\.venv\\lib\\site-packages (from roboflow) (0.12.1)\n",
      "Requirement already satisfied: kiwisolver>=1.3.1 in c:\\users\\yuyao\\onedrive\\documents\\epq\\epq_tennis\\.venv\\lib\\site-packages (from roboflow) (1.4.5)\n",
      "Requirement already satisfied: matplotlib in c:\\users\\yuyao\\onedrive\\documents\\epq\\epq_tennis\\.venv\\lib\\site-packages (from roboflow) (3.9.1)\n",
      "Requirement already satisfied: numpy>=1.18.5 in c:\\users\\yuyao\\onedrive\\documents\\epq\\epq_tennis\\.venv\\lib\\site-packages (from roboflow) (1.26.4)\n",
      "Collecting opencv-python-headless==4.10.0.84 (from roboflow)\n",
      "  Downloading opencv_python_headless-4.10.0.84-cp37-abi3-win_amd64.whl.metadata (20 kB)\n",
      "Requirement already satisfied: Pillow>=7.1.2 in c:\\users\\yuyao\\onedrive\\documents\\epq\\epq_tennis\\.venv\\lib\\site-packages (from roboflow) (10.4.0)\n",
      "Requirement already satisfied: python-dateutil in c:\\users\\yuyao\\onedrive\\documents\\epq\\epq_tennis\\.venv\\lib\\site-packages (from roboflow) (2.9.0.post0)\n",
      "Collecting python-dotenv (from roboflow)\n",
      "  Downloading python_dotenv-1.0.1-py3-none-any.whl.metadata (23 kB)\n",
      "Requirement already satisfied: requests in c:\\users\\yuyao\\onedrive\\documents\\epq\\epq_tennis\\.venv\\lib\\site-packages (from roboflow) (2.32.3)\n",
      "Requirement already satisfied: six in c:\\users\\yuyao\\onedrive\\documents\\epq\\epq_tennis\\.venv\\lib\\site-packages (from roboflow) (1.16.0)\n",
      "Requirement already satisfied: urllib3>=1.26.6 in c:\\users\\yuyao\\onedrive\\documents\\epq\\epq_tennis\\.venv\\lib\\site-packages (from roboflow) (2.2.2)\n",
      "Requirement already satisfied: tqdm>=4.41.0 in c:\\users\\yuyao\\onedrive\\documents\\epq\\epq_tennis\\.venv\\lib\\site-packages (from roboflow) (4.66.4)\n",
      "Requirement already satisfied: PyYAML>=5.3.1 in c:\\users\\yuyao\\onedrive\\documents\\epq\\epq_tennis\\.venv\\lib\\site-packages (from roboflow) (6.0.1)\n",
      "Collecting requests-toolbelt (from roboflow)\n",
      "  Downloading requests_toolbelt-1.0.0-py2.py3-none-any.whl.metadata (14 kB)\n",
      "Collecting filetype (from roboflow)\n",
      "  Downloading filetype-1.2.0-py2.py3-none-any.whl.metadata (6.5 kB)\n",
      "Requirement already satisfied: colorama in c:\\users\\yuyao\\onedrive\\documents\\epq\\epq_tennis\\.venv\\lib\\site-packages (from tqdm>=4.41.0->roboflow) (0.4.6)\n",
      "Requirement already satisfied: contourpy>=1.0.1 in c:\\users\\yuyao\\onedrive\\documents\\epq\\epq_tennis\\.venv\\lib\\site-packages (from matplotlib->roboflow) (1.2.1)\n",
      "Requirement already satisfied: fonttools>=4.22.0 in c:\\users\\yuyao\\onedrive\\documents\\epq\\epq_tennis\\.venv\\lib\\site-packages (from matplotlib->roboflow) (4.53.1)\n",
      "Requirement already satisfied: packaging>=20.0 in c:\\users\\yuyao\\onedrive\\documents\\epq\\epq_tennis\\.venv\\lib\\site-packages (from matplotlib->roboflow) (24.1)\n",
      "Requirement already satisfied: pyparsing>=2.3.1 in c:\\users\\yuyao\\onedrive\\documents\\epq\\epq_tennis\\.venv\\lib\\site-packages (from matplotlib->roboflow) (3.1.2)\n",
      "Requirement already satisfied: charset-normalizer<4,>=2 in c:\\users\\yuyao\\onedrive\\documents\\epq\\epq_tennis\\.venv\\lib\\site-packages (from requests->roboflow) (3.3.2)\n",
      "Downloading roboflow-1.1.36-py3-none-any.whl (76 kB)\n",
      "   ---------------------------------------- 0.0/76.7 kB ? eta -:--:--\n",
      "   ---------------------------------------- 76.7/76.7 kB 2.1 MB/s eta 0:00:00\n",
      "Downloading chardet-4.0.0-py2.py3-none-any.whl (178 kB)\n",
      "   ---------------------------------------- 0.0/178.7 kB ? eta -:--:--\n",
      "   -------------------------------------- - 174.1/178.7 kB 5.3 MB/s eta 0:00:01\n",
      "   ---------------------------------------- 178.7/178.7 kB 3.6 MB/s eta 0:00:00\n",
      "Downloading opencv_python_headless-4.10.0.84-cp37-abi3-win_amd64.whl (38.8 MB)\n",
      "   ---------------------------------------- 0.0/38.8 MB ? eta -:--:--\n",
      "   ---------------------------------------- 0.2/38.8 MB 6.6 MB/s eta 0:00:06\n",
      "   ---------------------------------------- 0.4/38.8 MB 11.6 MB/s eta 0:00:04\n",
      "   ---------------------------------------- 0.5/38.8 MB 5.0 MB/s eta 0:00:08\n",
      "   ---------------------------------------- 0.5/38.8 MB 5.0 MB/s eta 0:00:08\n",
      "    --------------------------------------- 1.0/38.8 MB 5.5 MB/s eta 0:00:07\n",
      "   - -------------------------------------- 1.2/38.8 MB 5.4 MB/s eta 0:00:07\n",
      "   - -------------------------------------- 1.6/38.8 MB 6.3 MB/s eta 0:00:06\n",
      "   - -------------------------------------- 1.9/38.8 MB 6.1 MB/s eta 0:00:07\n",
      "   -- ------------------------------------- 2.3/38.8 MB 6.4 MB/s eta 0:00:06\n",
      "   -- ------------------------------------- 2.8/38.8 MB 6.8 MB/s eta 0:00:06\n",
      "   --- ------------------------------------ 3.0/38.8 MB 6.6 MB/s eta 0:00:06\n",
      "   --- ------------------------------------ 3.4/38.8 MB 6.8 MB/s eta 0:00:06\n",
      "   ---- ----------------------------------- 4.0/38.8 MB 7.3 MB/s eta 0:00:05\n",
      "   ---- ----------------------------------- 4.4/38.8 MB 7.2 MB/s eta 0:00:05\n",
      "   ---- ----------------------------------- 4.7/38.8 MB 7.4 MB/s eta 0:00:05\n",
      "   ----- ---------------------------------- 5.3/38.8 MB 7.5 MB/s eta 0:00:05\n",
      "   ----- ---------------------------------- 5.7/38.8 MB 7.5 MB/s eta 0:00:05\n",
      "   ------ --------------------------------- 5.9/38.8 MB 7.4 MB/s eta 0:00:05\n",
      "   ------ --------------------------------- 6.3/38.8 MB 7.4 MB/s eta 0:00:05\n",
      "   ------ --------------------------------- 6.5/38.8 MB 7.5 MB/s eta 0:00:05\n",
      "   ------- -------------------------------- 6.8/38.8 MB 7.4 MB/s eta 0:00:05\n",
      "   ------- -------------------------------- 7.1/38.8 MB 7.5 MB/s eta 0:00:05\n",
      "   ------- -------------------------------- 7.6/38.8 MB 7.5 MB/s eta 0:00:05\n",
      "   -------- ------------------------------- 8.1/38.8 MB 7.6 MB/s eta 0:00:05\n",
      "   -------- ------------------------------- 8.4/38.8 MB 7.6 MB/s eta 0:00:05\n",
      "   -------- ------------------------------- 8.7/38.8 MB 7.6 MB/s eta 0:00:04\n",
      "   --------- ------------------------------ 9.1/38.8 MB 7.5 MB/s eta 0:00:04\n",
      "   ---------- ----------------------------- 9.8/38.8 MB 7.6 MB/s eta 0:00:04\n",
      "   ---------- ----------------------------- 10.1/38.8 MB 7.7 MB/s eta 0:00:04\n",
      "   ---------- ----------------------------- 10.5/38.8 MB 7.6 MB/s eta 0:00:04\n",
      "   ----------- ---------------------------- 10.7/38.8 MB 8.2 MB/s eta 0:00:04\n",
      "   ----------- ---------------------------- 11.1/38.8 MB 8.0 MB/s eta 0:00:04\n",
      "   ----------- ---------------------------- 11.6/38.8 MB 8.1 MB/s eta 0:00:04\n",
      "   ------------ --------------------------- 11.9/38.8 MB 8.0 MB/s eta 0:00:04\n",
      "   ------------ --------------------------- 12.3/38.8 MB 8.0 MB/s eta 0:00:04\n",
      "   ------------- -------------------------- 12.6/38.8 MB 8.0 MB/s eta 0:00:04\n",
      "   ------------- -------------------------- 12.9/38.8 MB 7.8 MB/s eta 0:00:04\n",
      "   ------------- -------------------------- 13.3/38.8 MB 8.0 MB/s eta 0:00:04\n",
      "   -------------- ------------------------- 13.6/38.8 MB 7.9 MB/s eta 0:00:04\n",
      "   -------------- ------------------------- 14.1/38.8 MB 8.0 MB/s eta 0:00:04\n",
      "   -------------- ------------------------- 14.4/38.8 MB 7.9 MB/s eta 0:00:04\n",
      "   --------------- ------------------------ 14.8/38.8 MB 7.8 MB/s eta 0:00:04\n",
      "   --------------- ------------------------ 15.1/38.8 MB 7.9 MB/s eta 0:00:04\n",
      "   --------------- ------------------------ 15.4/38.8 MB 7.8 MB/s eta 0:00:03\n",
      "   ---------------- ----------------------- 15.8/38.8 MB 7.8 MB/s eta 0:00:03\n",
      "   ---------------- ----------------------- 16.2/38.8 MB 7.9 MB/s eta 0:00:03\n",
      "   ----------------- ---------------------- 16.5/38.8 MB 7.9 MB/s eta 0:00:03\n",
      "   ----------------- ---------------------- 16.7/38.8 MB 7.8 MB/s eta 0:00:03\n",
      "   ----------------- ---------------------- 17.1/38.8 MB 7.9 MB/s eta 0:00:03\n",
      "   ------------------ --------------------- 17.6/38.8 MB 7.9 MB/s eta 0:00:03\n",
      "   ------------------ --------------------- 17.9/38.8 MB 7.9 MB/s eta 0:00:03\n",
      "   ------------------ --------------------- 18.2/38.8 MB 7.8 MB/s eta 0:00:03\n",
      "   ------------------- -------------------- 18.6/38.8 MB 7.9 MB/s eta 0:00:03\n",
      "   ------------------- -------------------- 19.1/38.8 MB 8.1 MB/s eta 0:00:03\n",
      "   -------------------- ------------------- 19.5/38.8 MB 8.1 MB/s eta 0:00:03\n",
      "   -------------------- ------------------- 19.8/38.8 MB 8.1 MB/s eta 0:00:03\n",
      "   -------------------- ------------------- 20.2/38.8 MB 8.0 MB/s eta 0:00:03\n",
      "   --------------------- ------------------ 20.6/38.8 MB 8.0 MB/s eta 0:00:03\n",
      "   --------------------- ------------------ 21.0/38.8 MB 8.3 MB/s eta 0:00:03\n",
      "   ---------------------- ----------------- 21.3/38.8 MB 8.2 MB/s eta 0:00:03\n",
      "   ---------------------- ----------------- 21.8/38.8 MB 8.3 MB/s eta 0:00:03\n",
      "   ---------------------- ----------------- 22.2/38.8 MB 8.2 MB/s eta 0:00:03\n",
      "   ----------------------- ---------------- 22.7/38.8 MB 8.3 MB/s eta 0:00:02\n",
      "   ----------------------- ---------------- 23.1/38.8 MB 8.5 MB/s eta 0:00:02\n",
      "   ------------------------ --------------- 23.6/38.8 MB 8.4 MB/s eta 0:00:02\n",
      "   ------------------------ --------------- 23.9/38.8 MB 8.3 MB/s eta 0:00:02\n",
      "   ------------------------- -------------- 24.3/38.8 MB 8.4 MB/s eta 0:00:02\n",
      "   ------------------------- -------------- 24.6/38.8 MB 8.5 MB/s eta 0:00:02\n",
      "   ------------------------- -------------- 25.0/38.8 MB 8.5 MB/s eta 0:00:02\n",
      "   -------------------------- ------------- 25.4/38.8 MB 8.6 MB/s eta 0:00:02\n",
      "   -------------------------- ------------- 25.8/38.8 MB 8.5 MB/s eta 0:00:02\n",
      "   -------------------------- ------------- 26.2/38.8 MB 8.6 MB/s eta 0:00:02\n",
      "   --------------------------- ------------ 26.6/38.8 MB 8.4 MB/s eta 0:00:02\n",
      "   --------------------------- ------------ 27.0/38.8 MB 8.7 MB/s eta 0:00:02\n",
      "   ---------------------------- ----------- 27.3/38.8 MB 8.6 MB/s eta 0:00:02\n",
      "   ---------------------------- ----------- 27.7/38.8 MB 8.6 MB/s eta 0:00:02\n",
      "   ---------------------------- ----------- 28.0/38.8 MB 8.6 MB/s eta 0:00:02\n",
      "   ----------------------------- ---------- 28.3/38.8 MB 8.7 MB/s eta 0:00:02\n",
      "   ----------------------------- ---------- 28.5/38.8 MB 8.5 MB/s eta 0:00:02\n",
      "   ----------------------------- ---------- 29.0/38.8 MB 8.6 MB/s eta 0:00:02\n",
      "   ------------------------------ --------- 29.4/38.8 MB 8.6 MB/s eta 0:00:02\n",
      "   ------------------------------ --------- 29.8/38.8 MB 8.6 MB/s eta 0:00:02\n",
      "   ------------------------------- -------- 30.3/38.8 MB 8.5 MB/s eta 0:00:01\n",
      "   ------------------------------- -------- 30.7/38.8 MB 8.5 MB/s eta 0:00:01\n",
      "   -------------------------------- ------- 31.0/38.8 MB 8.6 MB/s eta 0:00:01\n",
      "   -------------------------------- ------- 31.3/38.8 MB 8.5 MB/s eta 0:00:01\n",
      "   -------------------------------- ------- 31.7/38.8 MB 8.4 MB/s eta 0:00:01\n",
      "   -------------------------------- ------- 31.9/38.8 MB 8.4 MB/s eta 0:00:01\n",
      "   --------------------------------- ------ 32.3/38.8 MB 8.2 MB/s eta 0:00:01\n",
      "   --------------------------------- ------ 32.8/38.8 MB 8.3 MB/s eta 0:00:01\n",
      "   ---------------------------------- ----- 33.2/38.8 MB 8.3 MB/s eta 0:00:01\n",
      "   ---------------------------------- ----- 33.5/38.8 MB 8.1 MB/s eta 0:00:01\n",
      "   ---------------------------------- ----- 33.8/38.8 MB 8.2 MB/s eta 0:00:01\n",
      "   ----------------------------------- ---- 34.2/38.8 MB 8.2 MB/s eta 0:00:01\n",
      "   ----------------------------------- ---- 34.6/38.8 MB 8.1 MB/s eta 0:00:01\n",
      "   ----------------------------------- ---- 34.8/38.8 MB 8.1 MB/s eta 0:00:01\n",
      "   ------------------------------------ --- 35.1/38.8 MB 8.0 MB/s eta 0:00:01\n",
      "   ------------------------------------ --- 35.5/38.8 MB 8.2 MB/s eta 0:00:01\n",
      "   ------------------------------------- -- 36.0/38.8 MB 8.2 MB/s eta 0:00:01\n",
      "   ------------------------------------- -- 36.4/38.8 MB 8.1 MB/s eta 0:00:01\n",
      "   ------------------------------------- -- 36.7/38.8 MB 8.2 MB/s eta 0:00:01\n",
      "   -------------------------------------- - 37.1/38.8 MB 8.1 MB/s eta 0:00:01\n",
      "   -------------------------------------- - 37.6/38.8 MB 8.2 MB/s eta 0:00:01\n",
      "   ---------------------------------------  38.0/38.8 MB 8.1 MB/s eta 0:00:01\n",
      "   ---------------------------------------  38.2/38.8 MB 8.0 MB/s eta 0:00:01\n",
      "   ---------------------------------------  38.6/38.8 MB 8.1 MB/s eta 0:00:01\n",
      "   ---------------------------------------  38.7/38.8 MB 8.1 MB/s eta 0:00:01\n",
      "   ---------------------------------------  38.7/38.8 MB 8.1 MB/s eta 0:00:01\n",
      "   ---------------------------------------  38.7/38.8 MB 8.1 MB/s eta 0:00:01\n",
      "   ---------------------------------------  38.7/38.8 MB 8.1 MB/s eta 0:00:01\n",
      "   ---------------------------------------- 38.8/38.8 MB 7.1 MB/s eta 0:00:00\n",
      "Downloading filetype-1.2.0-py2.py3-none-any.whl (19 kB)\n",
      "Downloading python_dotenv-1.0.1-py3-none-any.whl (19 kB)\n",
      "Downloading requests_toolbelt-1.0.0-py2.py3-none-any.whl (54 kB)\n",
      "   ---------------------------------------- 0.0/54.5 kB ? eta -:--:--\n",
      "   ---------------------------------------- 54.5/54.5 kB 2.8 MB/s eta 0:00:00\n",
      "Installing collected packages: filetype, python-dotenv, opencv-python-headless, chardet, requests-toolbelt, roboflow\n",
      "Successfully installed chardet-4.0.0 filetype-1.2.0 opencv-python-headless-4.10.0.84 python-dotenv-1.0.1 requests-toolbelt-1.0.0 roboflow-1.1.36\n",
      "Note: you may need to restart the kernel to use updated packages.\n",
      "Requirement already satisfied: ultralytics in c:\\users\\yuyao\\onedrive\\documents\\epq\\epq_tennis\\.venv\\lib\\site-packages (8.2.63)\n",
      "Requirement already satisfied: numpy<2.0.0,>=1.23.0 in c:\\users\\yuyao\\onedrive\\documents\\epq\\epq_tennis\\.venv\\lib\\site-packages (from ultralytics) (1.26.4)\n",
      "Requirement already satisfied: matplotlib>=3.3.0 in c:\\users\\yuyao\\onedrive\\documents\\epq\\epq_tennis\\.venv\\lib\\site-packages (from ultralytics) (3.9.1)\n",
      "Requirement already satisfied: opencv-python>=4.6.0 in c:\\users\\yuyao\\onedrive\\documents\\epq\\epq_tennis\\.venv\\lib\\site-packages (from ultralytics) (4.10.0.84)\n",
      "Requirement already satisfied: pillow>=7.1.2 in c:\\users\\yuyao\\onedrive\\documents\\epq\\epq_tennis\\.venv\\lib\\site-packages (from ultralytics) (10.4.0)\n",
      "Requirement already satisfied: pyyaml>=5.3.1 in c:\\users\\yuyao\\onedrive\\documents\\epq\\epq_tennis\\.venv\\lib\\site-packages (from ultralytics) (6.0.1)\n",
      "Requirement already satisfied: requests>=2.23.0 in c:\\users\\yuyao\\onedrive\\documents\\epq\\epq_tennis\\.venv\\lib\\site-packages (from ultralytics) (2.32.3)\n",
      "Requirement already satisfied: scipy>=1.4.1 in c:\\users\\yuyao\\onedrive\\documents\\epq\\epq_tennis\\.venv\\lib\\site-packages (from ultralytics) (1.14.0)\n",
      "Requirement already satisfied: torch>=1.8.0 in c:\\users\\yuyao\\onedrive\\documents\\epq\\epq_tennis\\.venv\\lib\\site-packages (from ultralytics) (2.3.1)\n",
      "Requirement already satisfied: torchvision>=0.9.0 in c:\\users\\yuyao\\onedrive\\documents\\epq\\epq_tennis\\.venv\\lib\\site-packages (from ultralytics) (0.18.1)\n",
      "Requirement already satisfied: tqdm>=4.64.0 in c:\\users\\yuyao\\onedrive\\documents\\epq\\epq_tennis\\.venv\\lib\\site-packages (from ultralytics) (4.66.4)\n",
      "Requirement already satisfied: psutil in c:\\users\\yuyao\\onedrive\\documents\\epq\\epq_tennis\\.venv\\lib\\site-packages (from ultralytics) (6.0.0)\n",
      "Requirement already satisfied: py-cpuinfo in c:\\users\\yuyao\\onedrive\\documents\\epq\\epq_tennis\\.venv\\lib\\site-packages (from ultralytics) (9.0.0)\n",
      "Requirement already satisfied: pandas>=1.1.4 in c:\\users\\yuyao\\onedrive\\documents\\epq\\epq_tennis\\.venv\\lib\\site-packages (from ultralytics) (2.2.2)\n",
      "Requirement already satisfied: seaborn>=0.11.0 in c:\\users\\yuyao\\onedrive\\documents\\epq\\epq_tennis\\.venv\\lib\\site-packages (from ultralytics) (0.13.2)\n",
      "Requirement already satisfied: ultralytics-thop>=2.0.0 in c:\\users\\yuyao\\onedrive\\documents\\epq\\epq_tennis\\.venv\\lib\\site-packages (from ultralytics) (2.0.0)\n",
      "Requirement already satisfied: contourpy>=1.0.1 in c:\\users\\yuyao\\onedrive\\documents\\epq\\epq_tennis\\.venv\\lib\\site-packages (from matplotlib>=3.3.0->ultralytics) (1.2.1)\n",
      "Requirement already satisfied: cycler>=0.10 in c:\\users\\yuyao\\onedrive\\documents\\epq\\epq_tennis\\.venv\\lib\\site-packages (from matplotlib>=3.3.0->ultralytics) (0.12.1)\n",
      "Requirement already satisfied: fonttools>=4.22.0 in c:\\users\\yuyao\\onedrive\\documents\\epq\\epq_tennis\\.venv\\lib\\site-packages (from matplotlib>=3.3.0->ultralytics) (4.53.1)\n",
      "Requirement already satisfied: kiwisolver>=1.3.1 in c:\\users\\yuyao\\onedrive\\documents\\epq\\epq_tennis\\.venv\\lib\\site-packages (from matplotlib>=3.3.0->ultralytics) (1.4.5)\n",
      "Requirement already satisfied: packaging>=20.0 in c:\\users\\yuyao\\onedrive\\documents\\epq\\epq_tennis\\.venv\\lib\\site-packages (from matplotlib>=3.3.0->ultralytics) (24.1)\n",
      "Requirement already satisfied: pyparsing>=2.3.1 in c:\\users\\yuyao\\onedrive\\documents\\epq\\epq_tennis\\.venv\\lib\\site-packages (from matplotlib>=3.3.0->ultralytics) (3.1.2)\n",
      "Requirement already satisfied: python-dateutil>=2.7 in c:\\users\\yuyao\\onedrive\\documents\\epq\\epq_tennis\\.venv\\lib\\site-packages (from matplotlib>=3.3.0->ultralytics) (2.9.0.post0)\n",
      "Requirement already satisfied: pytz>=2020.1 in c:\\users\\yuyao\\onedrive\\documents\\epq\\epq_tennis\\.venv\\lib\\site-packages (from pandas>=1.1.4->ultralytics) (2024.1)\n",
      "Requirement already satisfied: tzdata>=2022.7 in c:\\users\\yuyao\\onedrive\\documents\\epq\\epq_tennis\\.venv\\lib\\site-packages (from pandas>=1.1.4->ultralytics) (2024.1)\n",
      "Requirement already satisfied: charset-normalizer<4,>=2 in c:\\users\\yuyao\\onedrive\\documents\\epq\\epq_tennis\\.venv\\lib\\site-packages (from requests>=2.23.0->ultralytics) (3.3.2)\n",
      "Requirement already satisfied: idna<4,>=2.5 in c:\\users\\yuyao\\onedrive\\documents\\epq\\epq_tennis\\.venv\\lib\\site-packages (from requests>=2.23.0->ultralytics) (3.7)\n",
      "Requirement already satisfied: urllib3<3,>=1.21.1 in c:\\users\\yuyao\\onedrive\\documents\\epq\\epq_tennis\\.venv\\lib\\site-packages (from requests>=2.23.0->ultralytics) (2.2.2)\n",
      "Requirement already satisfied: certifi>=2017.4.17 in c:\\users\\yuyao\\onedrive\\documents\\epq\\epq_tennis\\.venv\\lib\\site-packages (from requests>=2.23.0->ultralytics) (2024.7.4)\n",
      "Requirement already satisfied: filelock in c:\\users\\yuyao\\onedrive\\documents\\epq\\epq_tennis\\.venv\\lib\\site-packages (from torch>=1.8.0->ultralytics) (3.15.4)\n",
      "Requirement already satisfied: typing-extensions>=4.8.0 in c:\\users\\yuyao\\onedrive\\documents\\epq\\epq_tennis\\.venv\\lib\\site-packages (from torch>=1.8.0->ultralytics) (4.12.2)\n",
      "Requirement already satisfied: sympy in c:\\users\\yuyao\\onedrive\\documents\\epq\\epq_tennis\\.venv\\lib\\site-packages (from torch>=1.8.0->ultralytics) (1.13.1)\n",
      "Requirement already satisfied: networkx in c:\\users\\yuyao\\onedrive\\documents\\epq\\epq_tennis\\.venv\\lib\\site-packages (from torch>=1.8.0->ultralytics) (3.3)\n",
      "Requirement already satisfied: jinja2 in c:\\users\\yuyao\\onedrive\\documents\\epq\\epq_tennis\\.venv\\lib\\site-packages (from torch>=1.8.0->ultralytics) (3.1.4)\n",
      "Requirement already satisfied: fsspec in c:\\users\\yuyao\\onedrive\\documents\\epq\\epq_tennis\\.venv\\lib\\site-packages (from torch>=1.8.0->ultralytics) (2024.6.1)\n",
      "Requirement already satisfied: mkl<=2021.4.0,>=2021.1.1 in c:\\users\\yuyao\\onedrive\\documents\\epq\\epq_tennis\\.venv\\lib\\site-packages (from torch>=1.8.0->ultralytics) (2021.4.0)\n",
      "Requirement already satisfied: colorama in c:\\users\\yuyao\\onedrive\\documents\\epq\\epq_tennis\\.venv\\lib\\site-packages (from tqdm>=4.64.0->ultralytics) (0.4.6)\n",
      "Requirement already satisfied: intel-openmp==2021.* in c:\\users\\yuyao\\onedrive\\documents\\epq\\epq_tennis\\.venv\\lib\\site-packages (from mkl<=2021.4.0,>=2021.1.1->torch>=1.8.0->ultralytics) (2021.4.0)\n",
      "Requirement already satisfied: tbb==2021.* in c:\\users\\yuyao\\onedrive\\documents\\epq\\epq_tennis\\.venv\\lib\\site-packages (from mkl<=2021.4.0,>=2021.1.1->torch>=1.8.0->ultralytics) (2021.13.0)\n",
      "Requirement already satisfied: six>=1.5 in c:\\users\\yuyao\\onedrive\\documents\\epq\\epq_tennis\\.venv\\lib\\site-packages (from python-dateutil>=2.7->matplotlib>=3.3.0->ultralytics) (1.16.0)\n",
      "Requirement already satisfied: MarkupSafe>=2.0 in c:\\users\\yuyao\\onedrive\\documents\\epq\\epq_tennis\\.venv\\lib\\site-packages (from jinja2->torch>=1.8.0->ultralytics) (2.1.5)\n",
      "Requirement already satisfied: mpmath<1.4,>=1.1.0 in c:\\users\\yuyao\\onedrive\\documents\\epq\\epq_tennis\\.venv\\lib\\site-packages (from sympy->torch>=1.8.0->ultralytics) (1.3.0)\n",
      "Note: you may need to restart the kernel to use updated packages.\n"
     ]
    }
   ],
   "source": [
    "%pip install roboflow\n",
    "%pip install ultralytics"
   ]
  },
  {
   "cell_type": "markdown",
   "metadata": {},
   "source": [
    "# Dataset"
   ]
  },
  {
   "cell_type": "code",
   "execution_count": 6,
   "metadata": {},
   "outputs": [
    {
     "name": "stdout",
     "output_type": "stream",
     "text": [
      "loading Roboflow workspace...\n",
      "loading Roboflow project...\n"
     ]
    },
    {
     "name": "stderr",
     "output_type": "stream",
     "text": [
      "Downloading Dataset Version Zip in tennis-ball-detection-6 to yolov5pytorch:: 100%|██████████| 52040/52040 [00:07<00:00, 7135.39it/s]"
     ]
    },
    {
     "name": "stdout",
     "output_type": "stream",
     "text": [
      "\n"
     ]
    },
    {
     "name": "stderr",
     "output_type": "stream",
     "text": [
      "\n",
      "Extracting Dataset Version Zip to tennis-ball-detection-6 in yolov5pytorch:: 100%|██████████| 1168/1168 [00:05<00:00, 213.04it/s]\n"
     ]
    }
   ],
   "source": [
    "from roboflow import Roboflow\n",
    "rf = Roboflow(api_key=\"lKZviSUoeNftJdgxc5wi\")\n",
    "project = rf.workspace(\"viren-dhanwani\").project(\"tennis-ball-detection\")\n",
    "version = project.version(6)\n",
    "dataset = version.download(\"yolov5\")\n"
   ]
  },
  {
   "cell_type": "markdown",
   "metadata": {},
   "source": [
    "# Move Files"
   ]
  },
  {
   "cell_type": "code",
   "execution_count": null,
   "metadata": {},
   "outputs": [],
   "source": [
    "import shutil"
   ]
  },
  {
   "cell_type": "code",
   "execution_count": null,
   "metadata": {},
   "outputs": [],
   "source": [
    "shutil.move(\"tennis-ball-detection-6/train\",\n",
    "            \"tennis-ball-detection-6/tennis-ball-detection-6/train\"\n",
    "            )\n",
    "shutil.move(\"tennis-ball-detection-6/test\",\n",
    "            \"tennis-ball-detection-6/tennis-ball-detection-6/test\"\n",
    "            )\n",
    "shutil.move(\"tennis-ball-detection-6/valid\",\n",
    "            \"tennis-ball-detection-6/tennis-ball-detection-6/valid\"\n",
    "            )"
   ]
  },
  {
   "cell_type": "markdown",
   "metadata": {},
   "source": [
    "# Model"
   ]
  },
  {
   "cell_type": "code",
   "execution_count": null,
   "metadata": {},
   "outputs": [],
   "source": [
    "!yolo task=detect mode=train model=yolov5l6u.pt data={dataset.location}/data.yaml epochs=100 imgsz=640\n"
   ]
  }
 ],
 "metadata": {
  "kernelspec": {
   "display_name": ".venv",
   "language": "python",
   "name": "python3"
  },
  "language_info": {
   "codemirror_mode": {
    "name": "ipython",
    "version": 3
   },
   "file_extension": ".py",
   "mimetype": "text/x-python",
   "name": "python",
   "nbconvert_exporter": "python",
   "pygments_lexer": "ipython3",
   "version": "3.12.0"
  }
 },
 "nbformat": 4,
 "nbformat_minor": 2
}
